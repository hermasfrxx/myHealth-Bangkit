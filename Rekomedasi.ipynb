{
 "cells": [
  {
   "cell_type": "code",
   "execution_count": 1,
   "id": "06221d75-86bb-421c-b4dc-3109d41ba4ba",
   "metadata": {},
   "outputs": [],
   "source": [
    "import pandas as pd\n",
    "from sklearn.preprocessing import OneHotEncoder\n",
    "from sklearn.metrics.pairwise import cosine_similarity\n",
    "import pickle"
   ]
  },
  {
   "cell_type": "code",
   "execution_count": 2,
   "id": "63f1a90e-59c1-4477-b6f0-8d8c648fa7a8",
   "metadata": {},
   "outputs": [],
   "source": [
    "data = pd.read_csv('Food.csv')"
   ]
  },
  {
   "cell_type": "code",
   "execution_count": 8,
   "id": "8e3e78fe-59ec-4df5-9de8-c381542bceaa",
   "metadata": {},
   "outputs": [
    {
     "name": "stdout",
     "output_type": "stream",
     "text": [
      "<class 'pandas.core.frame.DataFrame'>\n",
      "RangeIndex: 217 entries, 0 to 216\n",
      "Data columns (total 6 columns):\n",
      " #   Column    Non-Null Count  Dtype  \n",
      "---  ------    --------------  -----  \n",
      " 0   ID        217 non-null    int64  \n",
      " 1   Food      217 non-null    object \n",
      " 2   Grams     217 non-null    object \n",
      " 3   Calories  217 non-null    float64\n",
      " 4   Protein   217 non-null    object \n",
      " 5   Category  217 non-null    object \n",
      "dtypes: float64(1), int64(1), object(4)\n",
      "memory usage: 10.3+ KB\n"
     ]
    }
   ],
   "source": [
    "data.info()"
   ]
  },
  {
   "cell_type": "code",
   "execution_count": 12,
   "id": "eda92237-3bbc-4fd5-bb3f-2f6bc8407364",
   "metadata": {},
   "outputs": [],
   "source": [
    "data['Grams'] = data['Grams'].str.replace(',', '.').astype(float)"
   ]
  },
  {
   "cell_type": "code",
   "execution_count": 13,
   "id": "74d84946-7348-4ebd-8290-195ac11d31de",
   "metadata": {},
   "outputs": [
    {
     "name": "stdout",
     "output_type": "stream",
     "text": [
      "<class 'pandas.core.frame.DataFrame'>\n",
      "RangeIndex: 217 entries, 0 to 216\n",
      "Data columns (total 6 columns):\n",
      " #   Column    Non-Null Count  Dtype  \n",
      "---  ------    --------------  -----  \n",
      " 0   ID        217 non-null    int64  \n",
      " 1   Food      217 non-null    object \n",
      " 2   Grams     217 non-null    float64\n",
      " 3   Calories  217 non-null    float64\n",
      " 4   Protein   217 non-null    object \n",
      " 5   Category  217 non-null    object \n",
      "dtypes: float64(2), int64(1), object(3)\n",
      "memory usage: 10.3+ KB\n"
     ]
    }
   ],
   "source": [
    "data.info()"
   ]
  },
  {
   "cell_type": "code",
   "execution_count": 14,
   "id": "7532bdda-7092-443f-bdb6-1e50822dba9f",
   "metadata": {},
   "outputs": [],
   "source": [
    "data['Protein'] = data['Protein'].str.replace('t', '0').astype(float)"
   ]
  },
  {
   "cell_type": "code",
   "execution_count": 15,
   "id": "6608d591-0da5-4e7d-b40b-8a2879cc37d1",
   "metadata": {},
   "outputs": [
    {
     "name": "stdout",
     "output_type": "stream",
     "text": [
      "<class 'pandas.core.frame.DataFrame'>\n",
      "RangeIndex: 217 entries, 0 to 216\n",
      "Data columns (total 6 columns):\n",
      " #   Column    Non-Null Count  Dtype  \n",
      "---  ------    --------------  -----  \n",
      " 0   ID        217 non-null    int64  \n",
      " 1   Food      217 non-null    object \n",
      " 2   Grams     217 non-null    float64\n",
      " 3   Calories  217 non-null    float64\n",
      " 4   Protein   217 non-null    float64\n",
      " 5   Category  217 non-null    object \n",
      "dtypes: float64(3), int64(1), object(2)\n",
      "memory usage: 10.3+ KB\n"
     ]
    }
   ],
   "source": [
    "data.info()"
   ]
  },
  {
   "cell_type": "markdown",
   "id": "02d705c5-1e15-4fda-ab8d-c5c2709dedd0",
   "metadata": {},
   "source": [
    "### Rekomendasi\n"
   ]
  },
  {
   "cell_type": "code",
   "execution_count": 16,
   "id": "ac71f09d-b9f2-499f-9b9e-16aad9ba4ba6",
   "metadata": {},
   "outputs": [],
   "source": [
    "import pandas as pd\n",
    "from sklearn.preprocessing import OneHotEncoder\n",
    "from sklearn.metrics.pairwise import cosine_similarity\n",
    "import pickle"
   ]
  },
  {
   "cell_type": "code",
   "execution_count": 17,
   "id": "53a48d8a-391b-4925-af12-97d4943f785e",
   "metadata": {
    "scrolled": true
   },
   "outputs": [
    {
     "name": "stdout",
     "output_type": "stream",
     "text": [
      "<class 'pandas.core.frame.DataFrame'>\n",
      "RangeIndex: 217 entries, 0 to 216\n",
      "Data columns (total 6 columns):\n",
      " #   Column    Non-Null Count  Dtype  \n",
      "---  ------    --------------  -----  \n",
      " 0   ID        217 non-null    int64  \n",
      " 1   Food      217 non-null    object \n",
      " 2   Grams     217 non-null    float64\n",
      " 3   Calories  217 non-null    float64\n",
      " 4   Protein   217 non-null    float64\n",
      " 5   Category  217 non-null    object \n",
      "dtypes: float64(3), int64(1), object(2)\n",
      "memory usage: 10.3+ KB\n"
     ]
    }
   ],
   "source": [
    "data.info()"
   ]
  },
  {
   "cell_type": "code",
   "execution_count": 32,
   "id": "85400fc4-a151-4f21-88f5-637b7edc81fe",
   "metadata": {},
   "outputs": [],
   "source": [
    "#convert categorical features\n",
    "encoder = OneHotEncoder(sparse_output=False)\n",
    "encoded_features=encoder.fit_transform(data[['Category']])"
   ]
  },
  {
   "cell_type": "code",
   "execution_count": 33,
   "id": "aba6b9d2-2ab9-423e-bf5d-0f64cc7cae21",
   "metadata": {},
   "outputs": [],
   "source": [
    "#combine features\n",
    "feature = data[['Calories']]\n",
    "features = pd.concat([feature, pd.DataFrame(encoded_features)],axis=1)"
   ]
  },
  {
   "cell_type": "code",
   "execution_count": 34,
   "id": "71a1ae4f-f772-454a-9754-859fdc947316",
   "metadata": {},
   "outputs": [],
   "source": [
    "#hitung cosine similarity\n",
    "cosine_sim= cosine_similarity(features,features)"
   ]
  },
  {
   "cell_type": "code",
   "execution_count": 39,
   "id": "bad3f982-4331-4022-9deb-608f8bda1479",
   "metadata": {},
   "outputs": [
    {
     "name": "stdout",
     "output_type": "stream",
     "text": [
      "rekomendasi makanan :\n",
      "                 Food  Grams  Calories  Protein       Category\n",
      "82               Shad   85.0     170.0     20.0  Fish, Seafood\n",
      "68                Cod  100.0     170.0     28.0  Fish, Seafood\n",
      "85               Tuna   85.0     170.0     25.0  Fish, Seafood\n",
      "77            Oysters  230.0     231.0    232.0  Fish, Seafood\n",
      "80           Sardines   85.0     180.0     22.0  Fish, Seafood\n",
      "84          Swordfish  100.0     180.0     27.0  Fish, Seafood\n",
      "73            Halibut  100.0     182.0     26.0  Fish, Seafood\n",
      "74            Herring  100.0     211.0     22.0  Fish, Seafood\n",
      "71           Flounder  100.0     200.0     30.0  Fish, Seafood\n",
      "70  Fish sticks fried  112.0     200.0     19.0  Fish, Seafood\n"
     ]
    },
    {
     "name": "stderr",
     "output_type": "stream",
     "text": [
      "C:\\Users\\bahbah\\AppData\\Local\\Programs\\Python\\Python311\\Lib\\site-packages\\sklearn\\base.py:439: UserWarning: X does not have valid feature names, but OneHotEncoder was fitted with feature names\n",
      "  warnings.warn(\n"
     ]
    }
   ],
   "source": [
    "#fungsi to get top N food recommendation based od give feature\n",
    "def model_food(query_Categori,query_Calories,top_n=10):\n",
    "    query_encoded = encoder.transform([[query_Categori]])\n",
    "    query_feature = [query_Calories] + list(query_encoded[0])\n",
    "\n",
    "    similarity_scores = cosine_similarity([query_feature], features)\n",
    "    similarity_food_indices = similarity_scores[0].argsort()[-top_n:][::1]\n",
    "    similarity_food_info =data.iloc[similarity_food_indices]\n",
    "    return similarity_food_info\n",
    "\n",
    "# query_Protein = 20\n",
    "query_Categori = 'Fish, Seafood'\n",
    "query_Calories = 200\n",
    "recommendations = model_food(query_Categori, query_Calories)\n",
    "print('rekomendasi makanan :')\n",
    "print(recommendations[['Food','Grams','Calories','Protein','Category']])"
   ]
  },
  {
   "cell_type": "code",
   "execution_count": 41,
   "id": "d4bee87a-90eb-4aa6-9340-e17532e8c65d",
   "metadata": {},
   "outputs": [],
   "source": [
    "# Save the encoder and recommendation function to a pickled file\n",
    "with open('recommendation_model.pkl', 'wb') as f:\n",
    "    pickle.dump((encoder, model_food), f)"
   ]
  },
  {
   "cell_type": "code",
   "execution_count": null,
   "id": "6eb77518-c757-44f0-8b6f-087644df8200",
   "metadata": {},
   "outputs": [],
   "source": []
  }
 ],
 "metadata": {
  "kernelspec": {
   "display_name": "Python 3 (ipykernel)",
   "language": "python",
   "name": "python3"
  },
  "language_info": {
   "codemirror_mode": {
    "name": "ipython",
    "version": 3
   },
   "file_extension": ".py",
   "mimetype": "text/x-python",
   "name": "python",
   "nbconvert_exporter": "python",
   "pygments_lexer": "ipython3",
   "version": "3.11.3"
  }
 },
 "nbformat": 4,
 "nbformat_minor": 5
}
