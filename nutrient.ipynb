{
 "cells": [
  {
   "cell_type": "code",
   "execution_count": 1,
   "id": "ff505c68-50bb-4a19-8919-7e8bb05d4808",
   "metadata": {},
   "outputs": [],
   "source": [
    "import pandas as pd\n",
    "import numpy as np"
   ]
  },
  {
   "cell_type": "code",
   "execution_count": 3,
   "id": "b2466f33-a209-4fa5-a15e-2b4fdc900884",
   "metadata": {},
   "outputs": [
    {
     "data": {
      "text/html": [
       "<div>\n",
       "<style scoped>\n",
       "    .dataframe tbody tr th:only-of-type {\n",
       "        vertical-align: middle;\n",
       "    }\n",
       "\n",
       "    .dataframe tbody tr th {\n",
       "        vertical-align: top;\n",
       "    }\n",
       "\n",
       "    .dataframe thead th {\n",
       "        text-align: right;\n",
       "    }\n",
       "</style>\n",
       "<table border=\"1\" class=\"dataframe\">\n",
       "  <thead>\n",
       "    <tr style=\"text-align: right;\">\n",
       "      <th></th>\n",
       "      <th>Food</th>\n",
       "      <th>Measure</th>\n",
       "      <th>Grams</th>\n",
       "      <th>Calories</th>\n",
       "      <th>Protein</th>\n",
       "      <th>Fat</th>\n",
       "      <th>Sat.Fat</th>\n",
       "      <th>Fiber</th>\n",
       "      <th>Carbs</th>\n",
       "      <th>Category</th>\n",
       "    </tr>\n",
       "  </thead>\n",
       "  <tbody>\n",
       "    <tr>\n",
       "      <th>0</th>\n",
       "      <td>Cows' milk</td>\n",
       "      <td>1 qt.</td>\n",
       "      <td>976</td>\n",
       "      <td>660</td>\n",
       "      <td>32</td>\n",
       "      <td>40</td>\n",
       "      <td>36</td>\n",
       "      <td>0</td>\n",
       "      <td>48</td>\n",
       "      <td>Dairy products</td>\n",
       "    </tr>\n",
       "    <tr>\n",
       "      <th>1</th>\n",
       "      <td>Milk skim</td>\n",
       "      <td>1 qt.</td>\n",
       "      <td>984</td>\n",
       "      <td>360</td>\n",
       "      <td>36</td>\n",
       "      <td>t</td>\n",
       "      <td>t</td>\n",
       "      <td>0</td>\n",
       "      <td>52</td>\n",
       "      <td>Dairy products</td>\n",
       "    </tr>\n",
       "    <tr>\n",
       "      <th>2</th>\n",
       "      <td>Buttermilk</td>\n",
       "      <td>1 cup</td>\n",
       "      <td>246</td>\n",
       "      <td>127</td>\n",
       "      <td>9</td>\n",
       "      <td>5</td>\n",
       "      <td>4</td>\n",
       "      <td>0</td>\n",
       "      <td>13</td>\n",
       "      <td>Dairy products</td>\n",
       "    </tr>\n",
       "    <tr>\n",
       "      <th>3</th>\n",
       "      <td>Evaporated, undiluted</td>\n",
       "      <td>1 cup</td>\n",
       "      <td>252</td>\n",
       "      <td>345</td>\n",
       "      <td>16</td>\n",
       "      <td>20</td>\n",
       "      <td>18</td>\n",
       "      <td>0</td>\n",
       "      <td>24</td>\n",
       "      <td>Dairy products</td>\n",
       "    </tr>\n",
       "    <tr>\n",
       "      <th>4</th>\n",
       "      <td>Fortified milk</td>\n",
       "      <td>6 cups</td>\n",
       "      <td>1,419</td>\n",
       "      <td>1,373</td>\n",
       "      <td>89</td>\n",
       "      <td>42</td>\n",
       "      <td>23</td>\n",
       "      <td>1.4</td>\n",
       "      <td>119</td>\n",
       "      <td>Dairy products</td>\n",
       "    </tr>\n",
       "  </tbody>\n",
       "</table>\n",
       "</div>"
      ],
      "text/plain": [
       "                    Food Measure  Grams Calories Protein Fat Sat.Fat Fiber  \\\n",
       "0             Cows' milk   1 qt.    976      660      32  40      36     0   \n",
       "1              Milk skim   1 qt.    984      360      36   t       t     0   \n",
       "2             Buttermilk   1 cup    246      127       9   5       4     0   \n",
       "3  Evaporated, undiluted   1 cup    252      345      16  20      18     0   \n",
       "4         Fortified milk  6 cups  1,419    1,373      89  42      23   1.4   \n",
       "\n",
       "  Carbs        Category  \n",
       "0    48  Dairy products  \n",
       "1    52  Dairy products  \n",
       "2    13  Dairy products  \n",
       "3    24  Dairy products  \n",
       "4   119  Dairy products  "
      ]
     },
     "execution_count": 3,
     "metadata": {},
     "output_type": "execute_result"
    }
   ],
   "source": [
    "data = pd.read_csv('nutrients_csvfile.csv')\n",
    "data.head()"
   ]
  },
  {
   "cell_type": "code",
   "execution_count": 6,
   "id": "bf2713ec-fdab-449d-a567-ceabe1b9e978",
   "metadata": {},
   "outputs": [
    {
     "data": {
      "text/plain": [
       "(332, 10)"
      ]
     },
     "execution_count": 6,
     "metadata": {},
     "output_type": "execute_result"
    }
   ],
   "source": [
    "data.shape"
   ]
  },
  {
   "cell_type": "code",
   "execution_count": 8,
   "id": "ab5df7ad-717a-48b4-97b8-910ff259022f",
   "metadata": {},
   "outputs": [],
   "source": [
    "data = data.dropna()"
   ]
  },
  {
   "cell_type": "code",
   "execution_count": 13,
   "id": "6afc99b1-daf7-4a56-ae37-d450e049fa74",
   "metadata": {},
   "outputs": [
    {
     "data": {
      "text/plain": [
       "array(['40', 't', '5', '20', '42', '28', '10', '24', '11', '4', '14',\n",
       "       '18', '15', '44', '6', '19', '9', '8', '12', '16', '115', '100',\n",
       "       '110', '91', '17', '36', '27', '35', '23', '21', '22', '13', '1',\n",
       "       '2', '233', '7', '0', \"t'\", '25', '3', '38', '47', '32', '26'],\n",
       "      dtype=object)"
      ]
     },
     "execution_count": 13,
     "metadata": {},
     "output_type": "execute_result"
    }
   ],
   "source": [
    "data['Fat'].unique()"
   ]
  },
  {
   "cell_type": "code",
   "execution_count": 15,
   "id": "463d9649-9d7b-406d-a6ff-84d5e6895e83",
   "metadata": {},
   "outputs": [],
   "source": [
    "#menghapus nilai t \n",
    "data = data[data['Fat'] != 't']"
   ]
  },
  {
   "cell_type": "code",
   "execution_count": 16,
   "id": "58fccf94-1f8a-4fec-bdee-f4871d4342e4",
   "metadata": {},
   "outputs": [
    {
     "data": {
      "text/plain": [
       "array(['40', '5', '20', '42', '28', '10', '24', '11', '4', '14', '18',\n",
       "       '15', '44', '6', '19', '9', '8', '12', '16', '115', '100', '110',\n",
       "       '91', '17', '36', '27', '35', '23', '21', '22', '13', '1', '2',\n",
       "       '233', '7', '0', \"t'\", '25', '3', '38', '47', '32', '26'],\n",
       "      dtype=object)"
      ]
     },
     "execution_count": 16,
     "metadata": {},
     "output_type": "execute_result"
    }
   ],
   "source": [
    "data['Fat'].unique()"
   ]
  },
  {
   "cell_type": "code",
   "execution_count": 18,
   "id": "3e403709-b44c-4f51-b758-ede14de4e5cb",
   "metadata": {},
   "outputs": [],
   "source": [
    "# Remove the row(s) with the value \"t'\" in the 'Fat' column\n",
    "data = data[data['Fat'] != \"t'\"]"
   ]
  },
  {
   "cell_type": "code",
   "execution_count": 19,
   "id": "ade70d83-81bf-433b-b353-729a6ab48501",
   "metadata": {},
   "outputs": [
    {
     "name": "stdout",
     "output_type": "stream",
     "text": [
      "<class 'pandas.core.frame.DataFrame'>\n",
      "Index: 217 entries, 0 to 333\n",
      "Data columns (total 10 columns):\n",
      " #   Column    Non-Null Count  Dtype \n",
      "---  ------    --------------  ----- \n",
      " 0   Food      217 non-null    object\n",
      " 1   Measure   217 non-null    object\n",
      " 2   Grams     217 non-null    object\n",
      " 3   Calories  217 non-null    object\n",
      " 4   Protein   217 non-null    object\n",
      " 5   Fat       217 non-null    object\n",
      " 6   Sat.Fat   217 non-null    object\n",
      " 7   Fiber     217 non-null    object\n",
      " 8   Carbs     217 non-null    object\n",
      " 9   Category  217 non-null    object\n",
      "dtypes: object(10)\n",
      "memory usage: 18.6+ KB\n"
     ]
    }
   ],
   "source": [
    "data.info()"
   ]
  },
  {
   "cell_type": "code",
   "execution_count": 23,
   "id": "14b6c2f2-c5d4-4c72-94b7-0ccc59e22713",
   "metadata": {},
   "outputs": [
    {
     "name": "stdout",
     "output_type": "stream",
     "text": [
      "Unique values for Food:\n",
      "[\"Cows' milk\" 'Buttermilk' 'Evaporated, undiluted' 'Fortified milk'\n",
      " 'Powdered milk' \"Goats' milk\" '(1/2 cup ice cream)' 'Cocoa' 'skim. milk'\n",
      " '(cornstarch)' 'Custard' 'Ice cream' 'Ice milk' 'Cream or half-and-half'\n",
      " 'or whipping' 'Cheese' 'Cheddar' 'Cheddar, grated cup' 'Cream cheese'\n",
      " 'Processed cheese' 'Roquefort type' 'Swiss' 'Eggs raw'\n",
      " 'Eggs Scrambled or fried' 'Yolks' 'Butter' 'Hydrogenated cooking fat'\n",
      " 'Lard' 'Margarine' 'Margarine, 2 pat or' 'Mayonnaise' 'Corn oil'\n",
      " 'Olive oil' 'Safflower seed oil' 'French dressing'\n",
      " 'Thousand Island sauce' 'Bacon' 'Beef' 'Hamburger' 'Ground lean'\n",
      " 'Roast beef' 'Steak' 'Steak, lean, as round' 'Corned beef'\n",
      " 'Corned beef hash canned' 'Corned beef hash Dried' 'Pot-pie'\n",
      " 'Corned beef hash Stew' 'chicken'\n",
      " 'Fried, breast or leg and thigh chicken' 'Roasted chicken'\n",
      " 'Chicken livers, fried' 'Duck, domestic' 'Lamb, chop, broiled'\n",
      " 'Leg roasted' 'Shoulder, braised' 'Pork, chop, 1 thick' 'Ham pan-broiled'\n",
      " 'Ham, as ' 'Ham, canned, spiced' 'Pork roast' 'Pork sausage' 'Turkey'\n",
      " 'Veal' 'Roast' 'Clams' 'Cod' 'Crab meat' 'Fish sticks fried' 'Flounder'\n",
      " 'Haddock' 'Halibut' 'Herring' 'Lobster' 'Mackerel' 'Oysters'\n",
      " 'Oyster stew' 'Salmon' 'Sardines' 'Scallops' 'Shad' 'Shrimp' 'Swordfish'\n",
      " 'Tuna' 'Navy, baked with pork' 'Red kidney' 'Corn' 'Cucumbers'\n",
      " 'Dandelion greens' 'Kale' 'Parsnips' 'Peppers with beef and crumbs'\n",
      " 'French-fried' 'Potatoes Mashed with milk and butter'\n",
      " 'Potatoes, pan-tried' 'Scalloped with cheese potatoes' 'Potato chips'\n",
      " 'Radishes' 'Rutabagas' 'Soybeans' 'Sweet potatoes' 'Candied'\n",
      " 'Turnip greens' 'Apple juice canned' 'Apple vinegar' 'Avocado'\n",
      " 'Blackberries' 'Cherries' 'Olives large' 'OlivesRipe' 'Raw, 3 by 2V'\n",
      " 'Prunes' 'Watermelon' 'Biscuits' 'Bread, cracked wheat' 'Rye'\n",
      " 'White, 20 slices, or' 'Whole-wheat' 'Corn bread ground meal' 'Corn meal'\n",
      " 'Crackers' 'Soda, 2 1/2 square' 'Flour' 'Wheat (all purpose)'\n",
      " 'Wheat (whole)' 'Macaroni' 'Baked with cheese' 'Muffins' 'Noodles'\n",
      " 'Oatmeal' 'Pancakes 4\" diam.' 'Wheat, pancakes 4\" diam.'\n",
      " 'Pizza 14\" diam.' 'Popcorn salted' 'Rice' 'Rice polish' 'Rolls'\n",
      " 'of refined flour' 'whole-wheat' 'Spaghetti with meat sauce'\n",
      " 'with tomatoes and cheese' 'Spanish rice' 'Shredded wheat biscuit'\n",
      " 'Waffles' 'Wheat germ' 'Wheat-germ cereal toasted'\n",
      " 'Wheat meal cereal unrefined' 'Wheat, cooked' 'Bean soups' 'Beef soup'\n",
      " 'Bouillon' 'chicken soup' 'Clam chowder' 'Cream soups' 'Noodle'\n",
      " 'Split-pea soup' 'Tomato soup' 'Vegetable' 'Apple betty' 'Bread pudding'\n",
      " 'Chocolate fudge' 'Cupcake' 'Fruit cake' 'Gingerbread'\n",
      " 'Plain, with no icing' 'Sponge cake' 'Candy' 'Chocolate creams' 'Fudge'\n",
      " 'Hard candies' 'Marshmallows' 'Milk chocolate' 'Doughnuts' 'Honey' 'Ices'\n",
      " 'preserves' 'Jellies' 'Molasses' 'Cane Syrup' '9\" diam. pie' 'Cherry Pie'\n",
      " 'Lemon meringue' 'Mince' 'Pumpkin Pie' 'Puddings Sugar'\n",
      " '3 teaspoons sugar' 'Syrup' 'table blends sugar' 'Tapioca cream pudding'\n",
      " 'Almonds' 'roasted and salted' 'Brazil nuts' 'Cashews'\n",
      " 'coconut sweetened' 'Peanut butter' 'Peanut butter, natural' 'Peanuts'\n",
      " 'Pecans' 'Sesame seeds' 'Sunflower seeds' 'Walnuts' 'Beer' 'Gin' 'Wines'\n",
      " 'Table (12.2% alcohol)' 'Carbonated drinks Artificially sweetened'\n",
      " 'Club soda' 'Cola drinks' 'Fruit-flavored soda' 'Ginger ale' 'Root beer'\n",
      " 'Coffee']\n",
      "Unique values for Grams:\n",
      "['976' '246' '252' '1,419' '103' '244' '540' '250' '248' '188' '190' '120'\n",
      " '119' '225' '17' '56' '28' '100' '128' '34' '14' '112' '110' '15' '16'\n",
      " '85' '227' '235' '115' '86' '57' '230' '200' '260' '50' '180' '155' '150'\n",
      " '60' '20' '175' '145' '108' '144' '257' '65' '182' '270' '925' '38' '23'\n",
      " '454' '118' '11' '140' '220' '48' '160' '236' '75' '208' '40' '68' '30'\n",
      " '240' '255' '245' '55' '25' '90' '33' '42' '300' '135' '130' '12' '70'\n",
      " '52' '480' '346']\n",
      "Unique values for Calories:\n",
      "['660' '127' '345' '1,373' '515' '165' '690' '235' '128' '275' '285' '300'\n",
      " '170' '430' '240' '70' '226' '105' '150' '220' '120' '100' '113' '665'\n",
      " '992' '806' '110' '125' '60' '75' '95' '245' '185' '390' '330' '115'\n",
      " '480' '290' '140' '370' '314' '260' '310' '475' '265' '305' '87' '90'\n",
      " '200' '135' '182' '211' '92' '155' '231' '180' '104' '250' '230' '6' '80'\n",
      " '45' '255' '268' '145' '10' '32' '14' '85' '72' '130' '55' '1,225'\n",
      " '1,100' '360' '460' '400' '152' '748' '132' '411' '102' '210' '217' '103'\n",
      " '190' '24' '147' '175' '374' '420' '160' '98' '117' '50' '340' '770'\n",
      " '335' '425' '439' '457' '392' '274' '284' '343' '280' '325' '228' '164'\n",
      " '0' '137' '161' '3']\n",
      "Unique values for Protein:\n",
      "['32' '9' '16' '89' '27' '8' '24' '18' '13' '6' '4' '2' '30' '14' '7' '12'\n",
      " 't' '114' '0' '23' '21' '20' '22' '19' '15' '25' '28' '26' '232' '17'\n",
      " '11' '3' '5' '-1' '1' '39' '48' '10']\n",
      "Unique values for Category:\n",
      "['Dairy products' 'Fats, Oils, Shortenings' 'Meat, Poultry'\n",
      " 'Fish, Seafood' 'Vegetables A-E' 'Vegetables F-P' 'Vegetables R-Z'\n",
      " 'Fruits A-F' 'Fruits G-P' 'Fruits R-Z' 'Breads, cereals, fastfood,grains'\n",
      " 'Soups' 'Desserts, sweets' 'Jams, Jellies' 'Seeds and Nuts'\n",
      " 'Drinks,Alcohol, Beverages']\n"
     ]
    }
   ],
   "source": [
    "unique_values = {\n",
    "    'Food': data['Food'].unique(),\n",
    "    'Grams': data['Grams'].unique(),\n",
    "    'Calories': data['Calories'].unique(),\n",
    "    'Protein': data['Protein'].unique(),\n",
    "    'Category': data['Category'].unique()\n",
    "}\n",
    "\n",
    "for column, values in unique_values.items():\n",
    "    print(f\"Unique values for {column}:\")\n",
    "    print(values)"
   ]
  },
  {
   "cell_type": "code",
   "execution_count": 21,
   "id": "288e2eff-d353-4e2e-8b0f-bf2b2266b624",
   "metadata": {},
   "outputs": [],
   "source": [
    "columns_to_drop = ['Fiber', 'Fat', 'Sat.Fat', 'Carbs', 'Measure']\n",
    "data.drop(columns=columns_to_drop, inplace=True)"
   ]
  },
  {
   "cell_type": "code",
   "execution_count": 22,
   "id": "20f8077b-a9c0-459e-8f13-856796d11669",
   "metadata": {},
   "outputs": [
    {
     "name": "stdout",
     "output_type": "stream",
     "text": [
      "<class 'pandas.core.frame.DataFrame'>\n",
      "Index: 217 entries, 0 to 333\n",
      "Data columns (total 5 columns):\n",
      " #   Column    Non-Null Count  Dtype \n",
      "---  ------    --------------  ----- \n",
      " 0   Food      217 non-null    object\n",
      " 1   Grams     217 non-null    object\n",
      " 2   Calories  217 non-null    object\n",
      " 3   Protein   217 non-null    object\n",
      " 4   Category  217 non-null    object\n",
      "dtypes: object(5)\n",
      "memory usage: 10.2+ KB\n"
     ]
    }
   ],
   "source": [
    "data.info()"
   ]
  },
  {
   "cell_type": "code",
   "execution_count": 28,
   "id": "127dc8f8-5749-45a9-95d9-bb23666bb287",
   "metadata": {},
   "outputs": [
    {
     "ename": "ValueError",
     "evalue": "cannot insert ID, already exists",
     "output_type": "error",
     "traceback": [
      "\u001b[1;31m---------------------------------------------------------------------------\u001b[0m",
      "\u001b[1;31mValueError\u001b[0m                                Traceback (most recent call last)",
      "\u001b[1;32m~\\AppData\\Local\\Temp\\ipykernel_10556\\2488727226.py\u001b[0m in \u001b[0;36m?\u001b[1;34m()\u001b[0m\n\u001b[1;32m----> 1\u001b[1;33m \u001b[0mdata\u001b[0m\u001b[1;33m.\u001b[0m\u001b[0minsert\u001b[0m\u001b[1;33m(\u001b[0m\u001b[1;36m0\u001b[0m\u001b[1;33m,\u001b[0m \u001b[1;34m'ID'\u001b[0m\u001b[1;33m,\u001b[0m \u001b[0mrange\u001b[0m\u001b[1;33m(\u001b[0m\u001b[0mlen\u001b[0m\u001b[1;33m(\u001b[0m\u001b[0mdata\u001b[0m\u001b[1;33m)\u001b[0m\u001b[1;33m)\u001b[0m\u001b[1;33m)\u001b[0m\u001b[1;33m\u001b[0m\u001b[1;33m\u001b[0m\u001b[0m\n\u001b[0m",
      "\u001b[1;32m~\\AppData\\Local\\Programs\\Python\\Python311\\Lib\\site-packages\\pandas\\core\\frame.py\u001b[0m in \u001b[0;36m?\u001b[1;34m(self, loc, column, value, allow_duplicates)\u001b[0m\n\u001b[0;32m   4768\u001b[0m                 \u001b[1;34m\"'self.flags.allows_duplicate_labels' is False.\"\u001b[0m\u001b[1;33m\u001b[0m\u001b[1;33m\u001b[0m\u001b[0m\n\u001b[0;32m   4769\u001b[0m             )\n\u001b[0;32m   4770\u001b[0m         \u001b[1;32mif\u001b[0m \u001b[1;32mnot\u001b[0m \u001b[0mallow_duplicates\u001b[0m \u001b[1;32mand\u001b[0m \u001b[0mcolumn\u001b[0m \u001b[1;32min\u001b[0m \u001b[0mself\u001b[0m\u001b[1;33m.\u001b[0m\u001b[0mcolumns\u001b[0m\u001b[1;33m:\u001b[0m\u001b[1;33m\u001b[0m\u001b[1;33m\u001b[0m\u001b[0m\n\u001b[0;32m   4771\u001b[0m             \u001b[1;31m# Should this be a different kind of error??\u001b[0m\u001b[1;33m\u001b[0m\u001b[1;33m\u001b[0m\u001b[0m\n\u001b[1;32m-> 4772\u001b[1;33m             \u001b[1;32mraise\u001b[0m \u001b[0mValueError\u001b[0m\u001b[1;33m(\u001b[0m\u001b[1;34mf\"cannot insert {column}, already exists\"\u001b[0m\u001b[1;33m)\u001b[0m\u001b[1;33m\u001b[0m\u001b[1;33m\u001b[0m\u001b[0m\n\u001b[0m\u001b[0;32m   4773\u001b[0m         \u001b[1;32mif\u001b[0m \u001b[1;32mnot\u001b[0m \u001b[0misinstance\u001b[0m\u001b[1;33m(\u001b[0m\u001b[0mloc\u001b[0m\u001b[1;33m,\u001b[0m \u001b[0mint\u001b[0m\u001b[1;33m)\u001b[0m\u001b[1;33m:\u001b[0m\u001b[1;33m\u001b[0m\u001b[1;33m\u001b[0m\u001b[0m\n\u001b[0;32m   4774\u001b[0m             \u001b[1;32mraise\u001b[0m \u001b[0mTypeError\u001b[0m\u001b[1;33m(\u001b[0m\u001b[1;34m\"loc must be int\"\u001b[0m\u001b[1;33m)\u001b[0m\u001b[1;33m\u001b[0m\u001b[1;33m\u001b[0m\u001b[0m\n\u001b[0;32m   4775\u001b[0m \u001b[1;33m\u001b[0m\u001b[0m\n",
      "\u001b[1;31mValueError\u001b[0m: cannot insert ID, already exists"
     ]
    }
   ],
   "source": [
    "data.insert(0, 'ID', range(len(data)))"
   ]
  },
  {
   "cell_type": "code",
   "execution_count": 29,
   "id": "567c03c3-51cd-4399-b589-77d00d83c3a6",
   "metadata": {},
   "outputs": [
    {
     "data": {
      "text/html": [
       "<div>\n",
       "<style scoped>\n",
       "    .dataframe tbody tr th:only-of-type {\n",
       "        vertical-align: middle;\n",
       "    }\n",
       "\n",
       "    .dataframe tbody tr th {\n",
       "        vertical-align: top;\n",
       "    }\n",
       "\n",
       "    .dataframe thead th {\n",
       "        text-align: right;\n",
       "    }\n",
       "</style>\n",
       "<table border=\"1\" class=\"dataframe\">\n",
       "  <thead>\n",
       "    <tr style=\"text-align: right;\">\n",
       "      <th></th>\n",
       "      <th>ID</th>\n",
       "      <th>Food</th>\n",
       "      <th>Grams</th>\n",
       "      <th>Calories</th>\n",
       "      <th>Protein</th>\n",
       "      <th>Category</th>\n",
       "    </tr>\n",
       "  </thead>\n",
       "  <tbody>\n",
       "    <tr>\n",
       "      <th>0</th>\n",
       "      <td>0</td>\n",
       "      <td>Cows' milk</td>\n",
       "      <td>976</td>\n",
       "      <td>660</td>\n",
       "      <td>32</td>\n",
       "      <td>Dairy products</td>\n",
       "    </tr>\n",
       "    <tr>\n",
       "      <th>2</th>\n",
       "      <td>1</td>\n",
       "      <td>Buttermilk</td>\n",
       "      <td>246</td>\n",
       "      <td>127</td>\n",
       "      <td>9</td>\n",
       "      <td>Dairy products</td>\n",
       "    </tr>\n",
       "    <tr>\n",
       "      <th>3</th>\n",
       "      <td>2</td>\n",
       "      <td>Evaporated, undiluted</td>\n",
       "      <td>252</td>\n",
       "      <td>345</td>\n",
       "      <td>16</td>\n",
       "      <td>Dairy products</td>\n",
       "    </tr>\n",
       "    <tr>\n",
       "      <th>4</th>\n",
       "      <td>3</td>\n",
       "      <td>Fortified milk</td>\n",
       "      <td>1,419</td>\n",
       "      <td>1,373</td>\n",
       "      <td>89</td>\n",
       "      <td>Dairy products</td>\n",
       "    </tr>\n",
       "    <tr>\n",
       "      <th>5</th>\n",
       "      <td>4</td>\n",
       "      <td>Powdered milk</td>\n",
       "      <td>103</td>\n",
       "      <td>515</td>\n",
       "      <td>27</td>\n",
       "      <td>Dairy products</td>\n",
       "    </tr>\n",
       "  </tbody>\n",
       "</table>\n",
       "</div>"
      ],
      "text/plain": [
       "   ID                   Food  Grams Calories Protein        Category\n",
       "0   0             Cows' milk    976      660      32  Dairy products\n",
       "2   1             Buttermilk    246      127       9  Dairy products\n",
       "3   2  Evaporated, undiluted    252      345      16  Dairy products\n",
       "4   3         Fortified milk  1,419    1,373      89  Dairy products\n",
       "5   4          Powdered milk    103      515      27  Dairy products"
      ]
     },
     "execution_count": 29,
     "metadata": {},
     "output_type": "execute_result"
    }
   ],
   "source": [
    "data.head()"
   ]
  },
  {
   "cell_type": "code",
   "execution_count": 30,
   "id": "48235ac0-c283-41e2-b019-c4c41a0db8cd",
   "metadata": {},
   "outputs": [],
   "source": [
    "# Menyimpan DataFrame ke dalam file CSV\n",
    "data.to_csv('Food.csv', index=False)"
   ]
  },
  {
   "cell_type": "markdown",
   "id": "e70902f7-f1ac-496d-b3b6-47b9e5d1a1a7",
   "metadata": {},
   "source": [
    "## Cleaning BMI"
   ]
  },
  {
   "cell_type": "code",
   "execution_count": 32,
   "id": "4550ed50-f4ee-438c-aa21-2883d88d7a16",
   "metadata": {},
   "outputs": [
    {
     "data": {
      "text/html": [
       "<div>\n",
       "<style scoped>\n",
       "    .dataframe tbody tr th:only-of-type {\n",
       "        vertical-align: middle;\n",
       "    }\n",
       "\n",
       "    .dataframe tbody tr th {\n",
       "        vertical-align: top;\n",
       "    }\n",
       "\n",
       "    .dataframe thead th {\n",
       "        text-align: right;\n",
       "    }\n",
       "</style>\n",
       "<table border=\"1\" class=\"dataframe\">\n",
       "  <thead>\n",
       "    <tr style=\"text-align: right;\">\n",
       "      <th></th>\n",
       "      <th>Age</th>\n",
       "      <th>Height</th>\n",
       "      <th>Weight</th>\n",
       "      <th>Bmi</th>\n",
       "      <th>BmiClass</th>\n",
       "    </tr>\n",
       "  </thead>\n",
       "  <tbody>\n",
       "    <tr>\n",
       "      <th>0</th>\n",
       "      <td>61</td>\n",
       "      <td>1.85</td>\n",
       "      <td>109.30</td>\n",
       "      <td>31.935720</td>\n",
       "      <td>Obese Class 1</td>\n",
       "    </tr>\n",
       "    <tr>\n",
       "      <th>1</th>\n",
       "      <td>60</td>\n",
       "      <td>1.71</td>\n",
       "      <td>79.02</td>\n",
       "      <td>27.023700</td>\n",
       "      <td>Overweight</td>\n",
       "    </tr>\n",
       "    <tr>\n",
       "      <th>2</th>\n",
       "      <td>60</td>\n",
       "      <td>1.55</td>\n",
       "      <td>74.70</td>\n",
       "      <td>31.092612</td>\n",
       "      <td>Obese Class 1</td>\n",
       "    </tr>\n",
       "    <tr>\n",
       "      <th>3</th>\n",
       "      <td>60</td>\n",
       "      <td>1.46</td>\n",
       "      <td>35.90</td>\n",
       "      <td>16.841809</td>\n",
       "      <td>Underweight</td>\n",
       "    </tr>\n",
       "    <tr>\n",
       "      <th>4</th>\n",
       "      <td>60</td>\n",
       "      <td>1.58</td>\n",
       "      <td>97.10</td>\n",
       "      <td>38.896010</td>\n",
       "      <td>Obese Class 2</td>\n",
       "    </tr>\n",
       "  </tbody>\n",
       "</table>\n",
       "</div>"
      ],
      "text/plain": [
       "   Age  Height  Weight        Bmi       BmiClass\n",
       "0   61    1.85  109.30  31.935720  Obese Class 1\n",
       "1   60    1.71   79.02  27.023700     Overweight\n",
       "2   60    1.55   74.70  31.092612  Obese Class 1\n",
       "3   60    1.46   35.90  16.841809    Underweight\n",
       "4   60    1.58   97.10  38.896010  Obese Class 2"
      ]
     },
     "execution_count": 32,
     "metadata": {},
     "output_type": "execute_result"
    }
   ],
   "source": [
    "data_bmi = pd.read_csv('bmi.csv')\n",
    "data_bmi.head()"
   ]
  },
  {
   "cell_type": "code",
   "execution_count": 34,
   "id": "7b134cbd-56de-44f6-8025-5def9d9ee5e2",
   "metadata": {},
   "outputs": [
    {
     "data": {
      "text/plain": [
       "array([61, 60, 59, 58, 57, 56, 55, 54, 53, 52, 51, 50, 49, 48, 47, 46, 45,\n",
       "       44, 43, 42, 41, 40, 39, 38, 37, 36, 35, 34, 33, 32, 31, 30, 29, 28,\n",
       "       27, 26, 25, 24, 23, 22, 21, 20, 19, 18, 17, 16, 15], dtype=int64)"
      ]
     },
     "execution_count": 34,
     "metadata": {},
     "output_type": "execute_result"
    }
   ],
   "source": [
    "data_bmi['Age'].unique()"
   ]
  },
  {
   "cell_type": "code",
   "execution_count": 36,
   "id": "a48d58a9-f30a-444f-a87a-bbaab67b434d",
   "metadata": {},
   "outputs": [
    {
     "data": {
      "text/html": [
       "<div>\n",
       "<style scoped>\n",
       "    .dataframe tbody tr th:only-of-type {\n",
       "        vertical-align: middle;\n",
       "    }\n",
       "\n",
       "    .dataframe tbody tr th {\n",
       "        vertical-align: top;\n",
       "    }\n",
       "\n",
       "    .dataframe thead th {\n",
       "        text-align: right;\n",
       "    }\n",
       "</style>\n",
       "<table border=\"1\" class=\"dataframe\">\n",
       "  <thead>\n",
       "    <tr style=\"text-align: right;\">\n",
       "      <th></th>\n",
       "      <th>Age</th>\n",
       "      <th>Height</th>\n",
       "      <th>Weight</th>\n",
       "      <th>Bmi</th>\n",
       "    </tr>\n",
       "  </thead>\n",
       "  <tbody>\n",
       "    <tr>\n",
       "      <th>0</th>\n",
       "      <td>61</td>\n",
       "      <td>1.85</td>\n",
       "      <td>109.30</td>\n",
       "      <td>31.935720</td>\n",
       "    </tr>\n",
       "    <tr>\n",
       "      <th>1</th>\n",
       "      <td>60</td>\n",
       "      <td>1.71</td>\n",
       "      <td>79.02</td>\n",
       "      <td>27.023700</td>\n",
       "    </tr>\n",
       "    <tr>\n",
       "      <th>2</th>\n",
       "      <td>60</td>\n",
       "      <td>1.55</td>\n",
       "      <td>74.70</td>\n",
       "      <td>31.092612</td>\n",
       "    </tr>\n",
       "    <tr>\n",
       "      <th>3</th>\n",
       "      <td>60</td>\n",
       "      <td>1.46</td>\n",
       "      <td>35.90</td>\n",
       "      <td>16.841809</td>\n",
       "    </tr>\n",
       "    <tr>\n",
       "      <th>4</th>\n",
       "      <td>60</td>\n",
       "      <td>1.58</td>\n",
       "      <td>97.10</td>\n",
       "      <td>38.896010</td>\n",
       "    </tr>\n",
       "    <tr>\n",
       "      <th>...</th>\n",
       "      <td>...</td>\n",
       "      <td>...</td>\n",
       "      <td>...</td>\n",
       "      <td>...</td>\n",
       "    </tr>\n",
       "    <tr>\n",
       "      <th>736</th>\n",
       "      <td>34</td>\n",
       "      <td>1.86</td>\n",
       "      <td>95.70</td>\n",
       "      <td>27.662157</td>\n",
       "    </tr>\n",
       "    <tr>\n",
       "      <th>737</th>\n",
       "      <td>44</td>\n",
       "      <td>1.91</td>\n",
       "      <td>106.90</td>\n",
       "      <td>29.302925</td>\n",
       "    </tr>\n",
       "    <tr>\n",
       "      <th>738</th>\n",
       "      <td>25</td>\n",
       "      <td>1.82</td>\n",
       "      <td>88.40</td>\n",
       "      <td>26.687598</td>\n",
       "    </tr>\n",
       "    <tr>\n",
       "      <th>739</th>\n",
       "      <td>35</td>\n",
       "      <td>1.88</td>\n",
       "      <td>98.50</td>\n",
       "      <td>27.868945</td>\n",
       "    </tr>\n",
       "    <tr>\n",
       "      <th>740</th>\n",
       "      <td>45</td>\n",
       "      <td>1.93</td>\n",
       "      <td>109.90</td>\n",
       "      <td>29.504148</td>\n",
       "    </tr>\n",
       "  </tbody>\n",
       "</table>\n",
       "<p>741 rows × 4 columns</p>\n",
       "</div>"
      ],
      "text/plain": [
       "     Age  Height  Weight        Bmi\n",
       "0     61    1.85  109.30  31.935720\n",
       "1     60    1.71   79.02  27.023700\n",
       "2     60    1.55   74.70  31.092612\n",
       "3     60    1.46   35.90  16.841809\n",
       "4     60    1.58   97.10  38.896010\n",
       "..   ...     ...     ...        ...\n",
       "736   34    1.86   95.70  27.662157\n",
       "737   44    1.91  106.90  29.302925\n",
       "738   25    1.82   88.40  26.687598\n",
       "739   35    1.88   98.50  27.868945\n",
       "740   45    1.93  109.90  29.504148\n",
       "\n",
       "[741 rows x 4 columns]"
      ]
     },
     "execution_count": 36,
     "metadata": {},
     "output_type": "execute_result"
    }
   ],
   "source": [
    "data_bmi.drop(columns=['BmiClass'])"
   ]
  },
  {
   "cell_type": "code",
   "execution_count": null,
   "id": "31c15593-4234-427a-aae7-7cf15296b62f",
   "metadata": {},
   "outputs": [],
   "source": []
  }
 ],
 "metadata": {
  "kernelspec": {
   "display_name": "Python 3 (ipykernel)",
   "language": "python",
   "name": "python3"
  },
  "language_info": {
   "codemirror_mode": {
    "name": "ipython",
    "version": 3
   },
   "file_extension": ".py",
   "mimetype": "text/x-python",
   "name": "python",
   "nbconvert_exporter": "python",
   "pygments_lexer": "ipython3",
   "version": "3.11.3"
  }
 },
 "nbformat": 4,
 "nbformat_minor": 5
}
