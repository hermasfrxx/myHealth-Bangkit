{
 "cells": [
  {
   "cell_type": "code",
   "execution_count": 1,
   "id": "06221d75-86bb-421c-b4dc-3109d41ba4ba",
   "metadata": {},
   "outputs": [],
   "source": [
    "import pandas as pd\n",
    "from sklearn.preprocessing import OneHotEncoder\n",
    "from sklearn.metrics.pairwise import cosine_similarity\n",
    "import pickle"
   ]
  },
  {
   "cell_type": "code",
   "execution_count": 2,
   "id": "63f1a90e-59c1-4477-b6f0-8d8c648fa7a8",
   "metadata": {},
   "outputs": [],
   "source": [
    "data = pd.read_csv('Food.csv')"
   ]
  },
  {
   "cell_type": "code",
   "execution_count": 3,
   "id": "8e3e78fe-59ec-4df5-9de8-c381542bceaa",
   "metadata": {},
   "outputs": [
    {
     "name": "stdout",
     "output_type": "stream",
     "text": [
      "<class 'pandas.core.frame.DataFrame'>\n",
      "RangeIndex: 217 entries, 0 to 216\n",
      "Data columns (total 6 columns):\n",
      " #   Column    Non-Null Count  Dtype \n",
      "---  ------    --------------  ----- \n",
      " 0   ID        217 non-null    int64 \n",
      " 1   Food      217 non-null    object\n",
      " 2   Grams     217 non-null    object\n",
      " 3   Calories  217 non-null    object\n",
      " 4   Protein   217 non-null    object\n",
      " 5   Category  217 non-null    object\n",
      "dtypes: int64(1), object(5)\n",
      "memory usage: 10.3+ KB\n"
     ]
    }
   ],
   "source": [
    "data.info()"
   ]
  },
  {
   "cell_type": "code",
   "execution_count": 4,
   "id": "eda92237-3bbc-4fd5-bb3f-2f6bc8407364",
   "metadata": {},
   "outputs": [],
   "source": [
    "data['Grams'] = data['Grams'].str.replace(',', '.').astype(float)"
   ]
  },
  {
   "cell_type": "code",
   "execution_count": 5,
   "id": "74d84946-7348-4ebd-8290-195ac11d31de",
   "metadata": {},
   "outputs": [
    {
     "name": "stdout",
     "output_type": "stream",
     "text": [
      "<class 'pandas.core.frame.DataFrame'>\n",
      "RangeIndex: 217 entries, 0 to 216\n",
      "Data columns (total 6 columns):\n",
      " #   Column    Non-Null Count  Dtype  \n",
      "---  ------    --------------  -----  \n",
      " 0   ID        217 non-null    int64  \n",
      " 1   Food      217 non-null    object \n",
      " 2   Grams     217 non-null    float64\n",
      " 3   Calories  217 non-null    object \n",
      " 4   Protein   217 non-null    object \n",
      " 5   Category  217 non-null    object \n",
      "dtypes: float64(1), int64(1), object(4)\n",
      "memory usage: 10.3+ KB\n"
     ]
    }
   ],
   "source": [
    "data.info()"
   ]
  },
  {
   "cell_type": "code",
   "execution_count": 6,
   "id": "7532bdda-7092-443f-bdb6-1e50822dba9f",
   "metadata": {},
   "outputs": [],
   "source": [
    "data['Protein'] = data['Protein'].str.replace('t', '0').astype(float)"
   ]
  },
  {
   "cell_type": "code",
   "execution_count": 7,
   "id": "6608d591-0da5-4e7d-b40b-8a2879cc37d1",
   "metadata": {},
   "outputs": [
    {
     "name": "stdout",
     "output_type": "stream",
     "text": [
      "<class 'pandas.core.frame.DataFrame'>\n",
      "RangeIndex: 217 entries, 0 to 216\n",
      "Data columns (total 6 columns):\n",
      " #   Column    Non-Null Count  Dtype  \n",
      "---  ------    --------------  -----  \n",
      " 0   ID        217 non-null    int64  \n",
      " 1   Food      217 non-null    object \n",
      " 2   Grams     217 non-null    float64\n",
      " 3   Calories  217 non-null    object \n",
      " 4   Protein   217 non-null    float64\n",
      " 5   Category  217 non-null    object \n",
      "dtypes: float64(2), int64(1), object(3)\n",
      "memory usage: 10.3+ KB\n"
     ]
    }
   ],
   "source": [
    "data.info()"
   ]
  },
  {
   "cell_type": "code",
   "execution_count": 10,
   "id": "e077b068",
   "metadata": {},
   "outputs": [
    {
     "data": {
      "text/html": [
       "<div>\n",
       "<style scoped>\n",
       "    .dataframe tbody tr th:only-of-type {\n",
       "        vertical-align: middle;\n",
       "    }\n",
       "\n",
       "    .dataframe tbody tr th {\n",
       "        vertical-align: top;\n",
       "    }\n",
       "\n",
       "    .dataframe thead th {\n",
       "        text-align: right;\n",
       "    }\n",
       "</style>\n",
       "<table border=\"1\" class=\"dataframe\">\n",
       "  <thead>\n",
       "    <tr style=\"text-align: right;\">\n",
       "      <th></th>\n",
       "      <th>ID</th>\n",
       "      <th>Food</th>\n",
       "      <th>Grams</th>\n",
       "      <th>Calories</th>\n",
       "      <th>Protein</th>\n",
       "      <th>Category</th>\n",
       "    </tr>\n",
       "  </thead>\n",
       "  <tbody>\n",
       "    <tr>\n",
       "      <th>0</th>\n",
       "      <td>0</td>\n",
       "      <td>Cows' milk</td>\n",
       "      <td>976.000</td>\n",
       "      <td>660</td>\n",
       "      <td>32.0</td>\n",
       "      <td>Dairy products</td>\n",
       "    </tr>\n",
       "    <tr>\n",
       "      <th>1</th>\n",
       "      <td>1</td>\n",
       "      <td>Buttermilk</td>\n",
       "      <td>246.000</td>\n",
       "      <td>127</td>\n",
       "      <td>9.0</td>\n",
       "      <td>Dairy products</td>\n",
       "    </tr>\n",
       "    <tr>\n",
       "      <th>2</th>\n",
       "      <td>2</td>\n",
       "      <td>Evaporated, undiluted</td>\n",
       "      <td>252.000</td>\n",
       "      <td>345</td>\n",
       "      <td>16.0</td>\n",
       "      <td>Dairy products</td>\n",
       "    </tr>\n",
       "    <tr>\n",
       "      <th>3</th>\n",
       "      <td>3</td>\n",
       "      <td>Fortified milk</td>\n",
       "      <td>1.419</td>\n",
       "      <td>1,373</td>\n",
       "      <td>89.0</td>\n",
       "      <td>Dairy products</td>\n",
       "    </tr>\n",
       "    <tr>\n",
       "      <th>4</th>\n",
       "      <td>4</td>\n",
       "      <td>Powdered milk</td>\n",
       "      <td>103.000</td>\n",
       "      <td>515</td>\n",
       "      <td>27.0</td>\n",
       "      <td>Dairy products</td>\n",
       "    </tr>\n",
       "  </tbody>\n",
       "</table>\n",
       "</div>"
      ],
      "text/plain": [
       "   ID                   Food    Grams Calories  Protein        Category\n",
       "0   0             Cows' milk  976.000      660     32.0  Dairy products\n",
       "1   1             Buttermilk  246.000      127      9.0  Dairy products\n",
       "2   2  Evaporated, undiluted  252.000      345     16.0  Dairy products\n",
       "3   3         Fortified milk    1.419    1,373     89.0  Dairy products\n",
       "4   4          Powdered milk  103.000      515     27.0  Dairy products"
      ]
     },
     "execution_count": 10,
     "metadata": {},
     "output_type": "execute_result"
    }
   ],
   "source": [
    "data.head()"
   ]
  },
  {
   "cell_type": "markdown",
   "id": "02d705c5-1e15-4fda-ab8d-c5c2709dedd0",
   "metadata": {},
   "source": [
    "### Rekomendasi\n"
   ]
  },
  {
   "cell_type": "code",
   "execution_count": 11,
   "id": "ac71f09d-b9f2-499f-9b9e-16aad9ba4ba6",
   "metadata": {},
   "outputs": [],
   "source": [
    "import pandas as pd\n",
    "from sklearn.preprocessing import OneHotEncoder\n",
    "from sklearn.metrics.pairwise import cosine_similarity"
   ]
  },
  {
   "cell_type": "code",
   "execution_count": 14,
   "id": "f6215c9f",
   "metadata": {},
   "outputs": [],
   "source": [
    "# Menghapus koma (,) dari kolom 'Calories' sebelum mengonversi ke integer\n",
    "data['Calories'] = data['Calories'].str.replace(',', '').astype(int)"
   ]
  },
  {
   "cell_type": "code",
   "execution_count": 17,
   "id": "53a48d8a-391b-4925-af12-97d4943f785e",
   "metadata": {
    "scrolled": true
   },
   "outputs": [],
   "source": [
    "# Misalnya, df adalah DataFrame Anda\n",
    "data['Grams'] = data['Grams'].astype(int)\n",
    "data['Calories'] = data['Calories'].astype(int)\n",
    "data['Protein'] = data['Protein'].astype(int)"
   ]
  },
  {
   "cell_type": "code",
   "execution_count": 22,
   "id": "44174ae6",
   "metadata": {},
   "outputs": [],
   "source": [
    "# Menyimpan DataFrame yang sudah diubah ke file CSV\n",
    "data.to_csv('data_food.csv', index=False)"
   ]
  },
  {
   "cell_type": "code",
   "execution_count": 18,
   "id": "85400fc4-a151-4f21-88f5-637b7edc81fe",
   "metadata": {},
   "outputs": [],
   "source": [
    "#convert categorical features\n",
    "encoder = OneHotEncoder(sparse_output=False)\n",
    "encoded_features=encoder.fit_transform(data[['Category']])"
   ]
  },
  {
   "cell_type": "code",
   "execution_count": 19,
   "id": "aba6b9d2-2ab9-423e-bf5d-0f64cc7cae21",
   "metadata": {},
   "outputs": [],
   "source": [
    "#combine features\n",
    "feature = data[['Calories']]\n",
    "features = pd.concat([feature, pd.DataFrame(encoded_features)],axis=1)"
   ]
  },
  {
   "cell_type": "code",
   "execution_count": 20,
   "id": "71a1ae4f-f772-454a-9754-859fdc947316",
   "metadata": {},
   "outputs": [],
   "source": [
    "#hitung cosine similarity\n",
    "cosine_sim= cosine_similarity(features,features)"
   ]
  },
  {
   "cell_type": "code",
   "execution_count": 21,
   "id": "bad3f982-4331-4022-9deb-608f8bda1479",
   "metadata": {},
   "outputs": [
    {
     "name": "stdout",
     "output_type": "stream",
     "text": [
      "rekomendasi makanan :\n",
      "                 Food  Grams  Calories  Protein       Category\n",
      "82               Shad     85       170       20  Fish, Seafood\n",
      "68                Cod    100       170       28  Fish, Seafood\n",
      "85               Tuna     85       170       25  Fish, Seafood\n",
      "77            Oysters    230       231      232  Fish, Seafood\n",
      "80           Sardines     85       180       22  Fish, Seafood\n",
      "84          Swordfish    100       180       27  Fish, Seafood\n",
      "73            Halibut    100       182       26  Fish, Seafood\n",
      "74            Herring    100       211       22  Fish, Seafood\n",
      "71           Flounder    100       200       30  Fish, Seafood\n",
      "70  Fish sticks fried    112       200       19  Fish, Seafood\n"
     ]
    },
    {
     "name": "stderr",
     "output_type": "stream",
     "text": [
      "C:\\Users\\bahbah\\AppData\\Local\\Programs\\Python\\Python311\\Lib\\site-packages\\sklearn\\base.py:439: UserWarning: X does not have valid feature names, but OneHotEncoder was fitted with feature names\n",
      "  warnings.warn(\n"
     ]
    }
   ],
   "source": [
    "#fungsi to get top N food recommendation based od give feature\n",
    "def model_food(query_Categori,query_Calories,top_n=10):\n",
    "    query_encoded = encoder.transform([[query_Categori]])\n",
    "    query_feature = [query_Calories] + list(query_encoded[0])\n",
    "\n",
    "    similarity_scores = cosine_similarity([query_feature], features)\n",
    "    similarity_food_indices = similarity_scores[0].argsort()[-top_n:][::1]\n",
    "    similarity_food_info =data.iloc[similarity_food_indices]\n",
    "    return similarity_food_info\n",
    "\n",
    "# query_Protein = 20\n",
    "query_Categori = 'Fish, Seafood'\n",
    "query_Calories = 200\n",
    "recommendations = model_food(query_Categori, query_Calories)\n",
    "print('rekomendasi makanan :')\n",
    "print(recommendations[['Food','Grams','Calories','Protein','Category']])"
   ]
  },
  {
   "cell_type": "code",
   "execution_count": 41,
   "id": "d4bee87a-90eb-4aa6-9340-e17532e8c65d",
   "metadata": {},
   "outputs": [],
   "source": [
    "# Save the encoder and recommendation function to a pickled file\n",
    "with open('recommendation_model.pkl', 'wb') as f:\n",
    "    pickle.dump((encoder, model_food), f)"
   ]
  },
  {
   "cell_type": "code",
   "execution_count": null,
   "id": "6eb77518-c757-44f0-8b6f-087644df8200",
   "metadata": {},
   "outputs": [],
   "source": []
  }
 ],
 "metadata": {
  "kernelspec": {
   "display_name": "Python 3 (ipykernel)",
   "language": "python",
   "name": "python3"
  },
  "language_info": {
   "codemirror_mode": {
    "name": "ipython",
    "version": 3
   },
   "file_extension": ".py",
   "mimetype": "text/x-python",
   "name": "python",
   "nbconvert_exporter": "python",
   "pygments_lexer": "ipython3",
   "version": "3.11.3"
  }
 },
 "nbformat": 4,
 "nbformat_minor": 5
}
