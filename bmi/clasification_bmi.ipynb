{
 "cells": [
  {
   "cell_type": "code",
   "execution_count": 1,
   "id": "05100e41-da0b-4f8d-b2df-f4766b1a9bb7",
   "metadata": {},
   "outputs": [],
   "source": [
    "import pandas as pd"
   ]
  },
  {
   "cell_type": "code",
   "execution_count": 2,
   "id": "d6903502-e5e9-4e09-b856-b16f150d3407",
   "metadata": {},
   "outputs": [],
   "source": [
    "data=pd.read_csv('bmi_data.csv')"
   ]
  },
  {
   "cell_type": "code",
   "execution_count": 3,
   "id": "3b07e6d5-7896-4a5b-8953-bdb5f710a26d",
   "metadata": {},
   "outputs": [],
   "source": [
    "data.head()"
   ]
  },
  {
   "cell_type": "code",
   "execution_count": 4,
   "id": "660a5513-76a6-40b5-b059-5290fc8aa85f",
   "metadata": {},
   "outputs": [],
   "source": [
    "data.isnull().sum()"
   ]
  },
  {
   "cell_type": "code",
   "execution_count": 5,
   "id": "4ce92740-e489-40b3-9476-ecc4823ee0d2",
   "metadata": {},
   "outputs": [],
   "source": [
    "data = data[(data != 0).all(axis=1)]"
   ]
  },
  {
   "cell_type": "code",
   "execution_count": 6,
   "id": "ac59578e-1824-4f3b-9f80-f793b2ff915a",
   "metadata": {},
   "outputs": [],
   "source": [
    "condition = (data[['Height(Inches)','Weight(Pounds)']] == 0).any(axis=1)\n",
    "\n",
    "# Menghapus baris yang memenuhi kondisi\n",
    "data = data.drop(data[condition].index)\n",
    "print(\"\\nDataFrame setelah penghapusan:\")\n",
    "print(data)"
   ]
  },
  {
   "cell_type": "code",
   "execution_count": 7,
   "id": "0454a733-d1e9-4164-82d0-8b15fc5d1fbf",
   "metadata": {},
   "outputs": [],
   "source": [
    "data['Sex'] = data['Sex'].map({'Male': 1, 'Female': 0})"
   ]
  },
  {
   "cell_type": "code",
   "execution_count": 8,
   "id": "87d106b8-2a33-41d4-9c16-55cb77ac23a0",
   "metadata": {},
   "outputs": [],
   "source": [
    "data.head()"
   ]
  },
  {
   "cell_type": "code",
   "execution_count": 9,
   "id": "9e2a8ecc-ff82-40eb-953f-b4b1a99de1c9",
   "metadata": {},
   "outputs": [],
   "source": [
    "#mengubah data height dan weight untukbmr\n",
    "data['Height(CM)'] = data['Height(Inches)'] * 2.54\n",
    "data['Weight(KG)'] = data['Weight(Pounds)'] * 0.453592"
   ]
  },
  {
   "cell_type": "code",
   "execution_count": 10,
   "id": "89194c9f-3d3a-4af7-b031-3d74f78f4888",
   "metadata": {},
   "outputs": [],
   "source": [
    "data.head()"
   ]
  },
  {
   "cell_type": "code",
   "execution_count": 11,
   "id": "df8e7609",
   "metadata": {},
   "outputs": [],
   "source": [
    "columns_to_drop = ['BMI', 'Height(Inches)', 'Weight(Pounds)']\n",
    "data = data.drop(columns=columns_to_drop)"
   ]
  },
  {
   "cell_type": "code",
   "execution_count": 12,
   "id": "2f55ec19",
   "metadata": {},
   "outputs": [],
   "source": [
    "data.head()"
   ]
  },
  {
   "cell_type": "code",
   "execution_count": 13,
   "id": "52ed978e",
   "metadata": {},
   "outputs": [],
   "source": [
    "columns_to_check = ['Height(CM)', 'Weight(KG)']\n",
    "data = data.dropna(subset=columns_to_check, how='any')"
   ]
  },
  {
   "cell_type": "code",
   "execution_count": 14,
   "id": "8e55fb85",
   "metadata": {},
   "outputs": [],
   "source": [
    "data.info()"
   ]
  },
  {
   "cell_type": "code",
   "execution_count": 15,
   "id": "765e299b",
   "metadata": {},
   "outputs": [],
   "source": [
    "# fungsi untuk menghitung bmr\n",
    "def calculate_bmr(row):\n",
    "    if row['Sex'] == 1:\n",
    "        return 66 + (13.7 * row['Weight(KG)']) + (5 * row['Height(CM)']) - (6.8 * row['Age'])\n",
    "    elif row['Sex'] == 0:\n",
    "        return 665 + (9.6 * row['Weight(KG)']) + (1.8 * row['Height(CM)']) - (4.7 * row['Age'])\n",
    "    else:\n",
    "        return None "
   ]
  },
  {
   "cell_type": "code",
   "execution_count": 16,
   "id": "7966e373",
   "metadata": {},
   "outputs": [],
   "source": [
    "data['BMR'] = data.apply(calculate_bmr, axis=1)"
   ]
  },
  {
   "cell_type": "code",
   "execution_count": 17,
   "id": "39157363",
   "metadata": {},
   "outputs": [],
   "source": [
    "data.head()"
   ]
  },
  {
   "cell_type": "code",
   "execution_count": 18,
   "id": "7bd59c83",
   "metadata": {},
   "outputs": [],
   "source": [
    "data.describe()"
   ]
  },
  {
   "cell_type": "code",
   "execution_count": 19,
   "id": "f0cdd952",
   "metadata": {},
   "outputs": [],
   "source": [
    "data.info()"
   ]
  },
  {
   "cell_type": "code",
   "execution_count": 20,
   "id": "551dc922",
   "metadata": {},
   "outputs": [],
   "source": [
    "# Mengatur ulang batas bin untuk 3 kategori\n",
    "bins = [data['BMR'].min(), data['BMR'].quantile(0.33), data['BMR'].quantile(0.66), data['BMR'].max()]\n",
    "labels = ['Rendah', 'Sedang', 'Tinggi']\n",
    "\n",
    "# Menambahkan kolom baru dengan kategori berdasarkan nilai BMR\n",
    "data['BMR_Category'] = pd.cut(data['BMR'], bins=bins, labels=labels)\n"
   ]
  },
  {
   "cell_type": "code",
   "execution_count": 21,
   "id": "f93725cb",
   "metadata": {},
   "outputs": [],
   "source": [
    "from sklearn.preprocessing import LabelEncoder\n",
    "\n",
    "# Inisialisasi LabelEncoder\n",
    "label_encoder = LabelEncoder()\n",
    "\n",
    "# Melakukan encoding pada kolom BMR_Category\n",
    "data['BMR_Category_Encoded'] = label_encoder.fit_transform(data['BMR_Category'])"
   ]
  },
  {
   "cell_type": "code",
   "execution_count": 22,
   "id": "560110a7",
   "metadata": {},
   "outputs": [],
   "source": [
    "data.info()"
   ]
  },
  {
   "cell_type": "code",
   "execution_count": 23,
   "id": "da603fe3",
   "metadata": {},
   "outputs": [],
   "source": [
    "data.head()"
   ]
  },
  {
   "cell_type": "code",
   "execution_count": 24,
   "id": "0ca194bb",
   "metadata": {},
   "outputs": [],
   "source": [
    "data.BMR_Category_Encoded.unique()"
   ]
  },
  {
   "cell_type": "code",
   "execution_count": 25,
   "id": "8a7250cb",
   "metadata": {},
   "outputs": [],
   "source": [
    "data = data.drop(index=22945)"
   ]
  },
  {
   "cell_type": "code",
   "execution_count": 26,
   "id": "458bd197",
   "metadata": {},
   "outputs": [],
   "source": [
    "data.BMR_Category_Encoded.unique()"
   ]
  },
  {
   "cell_type": "markdown",
   "id": "e29e17f6",
   "metadata": {},
   "source": [
    "### membuat model untuk data\n"
   ]
  },
  {
   "cell_type": "code",
   "execution_count": 27,
   "id": "5860912f",
   "metadata": {},
   "outputs": [],
   "source": [
    "import tensorflow as tf\n",
    "import numpy as np\n",
    "import matplotlib.pyplot as plt\n",
    "from sklearn.model_selection import train_test_split"
   ]
  },
  {
   "cell_type": "code",
   "execution_count": 28,
   "id": "f44869c3",
   "metadata": {},
   "outputs": [],
   "source": [
    "X = data.drop(columns=['BMR','BMR_Category_Encoded','BMR_Category'])"
   ]
  },
  {
   "cell_type": "code",
   "execution_count": 29,
   "id": "334394d3",
   "metadata": {},
   "outputs": [],
   "source": [
    "Y = data['BMR_Category_Encoded']\n",
    "print(Y)"
   ]
  },
  {
   "cell_type": "code",
   "execution_count": 30,
   "id": "b7985eaf",
   "metadata": {},
   "outputs": [],
   "source": [
    "X_train, X_test, Y_train, Y_test = train_test_split(X, Y, test_size=0.2, random_state=42)"
   ]
  },
  {
   "cell_type": "code",
   "execution_count": 31,
   "id": "6f611789",
   "metadata": {},
   "outputs": [],
   "source": [
    "from sklearn.preprocessing import StandardScaler\n",
    "# Normalisasi fitur\n",
    "scaler = StandardScaler()\n",
    "X_train = scaler.fit_transform(X_train)\n",
    "X_test = scaler.transform(X_test)"
   ]
  },
  {
   "cell_type": "code",
   "execution_count": null,
   "id": "c63109ac",
   "metadata": {},
   "outputs": [],
   "source": []
  },
  {
   "cell_type": "code",
   "execution_count": 32,
   "id": "141a2621",
   "metadata": {},
   "outputs": [],
   "source": [
    "model = tf.keras.Sequential([\n",
    "    tf.keras.layers.Dense(64, input_dim=X_train.shape[1], activation='relu'),\n",
    "    tf.keras.layers.Dense(32,activation='relu'),\n",
    "    tf.keras.layers.Dense(5,activation='softmax')\n",
    "])\n",
    "model.compile(loss='sparse_categorical_crossentropy', optimizer='adam', metrics=['accuracy'])\n",
    "# Melatih model\n",
    "model.fit(X_train, Y_train, epochs=20, batch_size=32, validation_data=(X_test, Y_test))\n",
    "\n",
    "_, accuracy = model.evaluate(X_test, Y_test)\n",
    "print(f'Akurasi model: {accuracy}')"
   ]
  },
  {
   "cell_type": "code",
   "execution_count": 33,
   "id": "dfc37a35",
   "metadata": {},
   "outputs": [],
   "source": [
    "# Data baru untuk prediksi (ganti nilainya sesuai dengan data yang ingin diprediksi)\n",
    "new_data = {\n",
    "    'Sex': 1,\n",
    "    'Age': 30,\n",
    "    'Height(CM)': 170,\n",
    "    'Weight(KG)': 60,\n",
    "    # Jika kolom 'BMR' tidak ada, ganti nilainya sesuai dengan data aktual\n",
    "}\n",
    "\n",
    "# Mengubah data input menjadi bentuk yang dapat diproses oleh model\n",
    "new_data_df = pd.DataFrame([new_data])  # Ubah data menjadi DataFrame jika belum\n",
    "new_data_processed = scaler.transform(new_data_df)  # Normalisasi fitur seperti yang dilakukan pada data latih\n",
    "\n",
    "# Melakukan prediksi dengan model yang sudah dilatih\n",
    "prediction = model.predict(new_data_processed)\n",
    "print(f'Prediksi kategori BMR: {prediction}')\n"
   ]
  },
  {
   "cell_type": "code",
   "execution_count": 34,
   "id": "64e81a2c",
   "metadata": {},
   "outputs": [],
   "source": [
    "predicted_category = np.argmax(prediction)\n",
    "print(f'Kategori BMR diprediksi: {predicted_category}')"
   ]
  },
  {
   "cell_type": "code",
   "execution_count": 35,
   "id": "500fe700",
   "metadata": {},
   "outputs": [],
   "source": [
    "data.BMR_Category_Encoded.unique()"
   ]
  },
  {
   "cell_type": "code",
   "execution_count": 36,
   "id": "e2a4a18d",
   "metadata": {},
   "outputs": [],
   "source": [
    "data.to_csv('bmi_clean',index=False)"
   ]
  },
  {
   "cell_type": "code",
   "execution_count": 37,
   "id": "5bcd7561",
   "metadata": {},
   "outputs": [],
   "source": [
    "data.info()"
   ]
  },
  {
   "cell_type": "code",
   "execution_count": 38,
   "id": "9fb68a5f",
   "metadata": {},
   "outputs": [],
   "source": [
    "data.describe()"
   ]
  },
  {
   "cell_type": "code",
   "execution_count": null,
   "id": "92cc7624",
   "metadata": {},
   "outputs": [],
   "source": []
  }
 ],
 "metadata": {
  "kernelspec": {
   "display_name": "Python 3 (ipykernel)",
   "language": "python",
   "name": "python3"
  },
  "language_info": {
   "codemirror_mode": {
    "name": "ipython",
    "version": 3
   },
   "file_extension": ".py",
   "mimetype": "text/x-python",
   "name": "python",
   "nbconvert_exporter": "python",
   "pygments_lexer": "ipython3",
   "version": "3.11.3"
  }
 },
 "nbformat": 4,
 "nbformat_minor": 5
}
